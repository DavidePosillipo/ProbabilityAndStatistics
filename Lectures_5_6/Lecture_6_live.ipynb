{
 "cells": [
  {
   "cell_type": "markdown",
   "metadata": {},
   "source": [
    "### Bootstrap"
   ]
  },
  {
   "cell_type": "code",
   "execution_count": 1,
   "metadata": {},
   "outputs": [
    {
     "name": "stderr",
     "output_type": "stream",
     "text": [
      "/usr/local/Cellar/python/3.6.5/Frameworks/Python.framework/Versions/3.6/lib/python3.6/importlib/_bootstrap.py:219: RuntimeWarning: numpy.dtype size changed, may indicate binary incompatibility. Expected 96, got 88\n",
      "  return f(*args, **kwds)\n"
     ]
    }
   ],
   "source": [
    "import numpy as np\n",
    "import pandas as pd\n",
    "import matplotlib.pyplot as plt "
   ]
  },
  {
   "cell_type": "code",
   "execution_count": 2,
   "metadata": {},
   "outputs": [],
   "source": [
    "data = pd.read_csv(\"michelson_speed_of_light.csv\")"
   ]
  },
  {
   "cell_type": "code",
   "execution_count": null,
   "metadata": {},
   "outputs": [],
   "source": [
    "speeds = data[\"velocity of light in air (km/s)\"]"
   ]
  },
  {
   "cell_type": "code",
   "execution_count": 4,
   "metadata": {},
   "outputs": [
    {
     "data": {
      "text/plain": [
       "100"
      ]
     },
     "execution_count": 4,
     "metadata": {},
     "output_type": "execute_result"
    }
   ],
   "source": [
    "speeds.size"
   ]
  },
  {
   "cell_type": "code",
   "execution_count": 5,
   "metadata": {},
   "outputs": [],
   "source": [
    "bs_sample = np.random.choice(speeds, size = 100)"
   ]
  },
  {
   "cell_type": "code",
   "execution_count": 6,
   "metadata": {},
   "outputs": [
    {
     "data": {
      "text/plain": [
       "299852.4"
      ]
     },
     "execution_count": 6,
     "metadata": {},
     "output_type": "execute_result"
    }
   ],
   "source": [
    "np.mean(bs_sample)"
   ]
  },
  {
   "cell_type": "code",
   "execution_count": 7,
   "metadata": {},
   "outputs": [],
   "source": [
    "def bootstrap_replicate(data, function):\n",
    "    bs_sample = np.random.choice(data, len(data))\n",
    "    return function(bs_sample)"
   ]
  },
  {
   "cell_type": "code",
   "execution_count": 8,
   "metadata": {},
   "outputs": [
    {
     "data": {
      "text/plain": [
       "299859.3"
      ]
     },
     "execution_count": 8,
     "metadata": {},
     "output_type": "execute_result"
    }
   ],
   "source": [
    "bootstrap_replicate(speeds, np.mean)"
   ]
  },
  {
   "cell_type": "code",
   "execution_count": 9,
   "metadata": {},
   "outputs": [],
   "source": [
    "bs_results = np.empty(10000)\n",
    "\n",
    "for i in range(10000):\n",
    "    bs_results[i] = bootstrap_replicate(speeds, np.mean)"
   ]
  },
  {
   "cell_type": "code",
   "execution_count": 10,
   "metadata": {},
   "outputs": [
    {
     "name": "stderr",
     "output_type": "stream",
     "text": [
      "/usr/local/lib/python3.6/site-packages/matplotlib/axes/_axes.py:6462: UserWarning: The 'normed' kwarg is deprecated, and has been replaced by the 'density' kwarg.\n",
      "  warnings.warn(\"The 'normed' kwarg is deprecated, and has been \"\n"
     ]
    },
    {
     "data": {
      "image/png": "[encoded data removed]",
      "text/plain": [
       "<Figure size 432x288 with 1 Axes>"
      ]
     },
     "metadata": {},
     "output_type": "display_data"
    }
   ],
   "source": [
    "_ = plt.hist(bs_results, bins = 30, normed=True)\n",
    "_ = plt.xlabel(\"Mean of the speed of light\")\n",
    "_ = plt.ylabel(\"Empirical Probability Density Function\")\n",
    "plt.show()"
   ]
  },
  {
   "cell_type": "code",
   "execution_count": 11,
   "metadata": {},
   "outputs": [
    {
     "data": {
      "text/plain": [
       "array([299836.9975, 299868.4   ])"
      ]
     },
     "execution_count": 11,
     "metadata": {},
     "output_type": "execute_result"
    }
   ],
   "source": [
    "conf_interval = np.percentile(bs_results, [2.5, 97.5])\n",
    "conf_interval"
   ]
  },
  {
   "cell_type": "markdown",
   "metadata": {},
   "source": [
    "#### Pairs bootstrap"
   ]
  },
  {
   "cell_type": "code",
   "execution_count": 12,
   "metadata": {},
   "outputs": [],
   "source": [
    "female_literacy_fertility = pd.read_csv(\"female_literacy_fertility.csv\")"
   ]
  },
  {
   "cell_type": "code",
   "execution_count": 13,
   "metadata": {},
   "outputs": [],
   "source": [
    "illiteracy = 100 - female_literacy_fertility[\"female literacy\"]"
   ]
  },
  {
   "cell_type": "code",
   "execution_count": 14,
   "metadata": {},
   "outputs": [],
   "source": [
    "fertility = female_literacy_fertility[\"fertility\"]"
   ]
  },
  {
   "cell_type": "code",
   "execution_count": 17,
   "metadata": {},
   "outputs": [],
   "source": [
    "def pairs_linear_regression_bs(x, y, size = 1):\n",
    "    \n",
    "    #indexes for the sampling\n",
    "    indices = np.arange(len(x))\n",
    "    \n",
    "    bs_slopes = np.empty(size)\n",
    "    bs_intercepts = np.empty(size)\n",
    "    \n",
    "    for i in range(size):\n",
    "        bs_indexes = np.random.choice(indices, size = len(indices))\n",
    "        bs_x = x[bs_indexes]\n",
    "        bs_y = y[bs_indexes]\n",
    "        bs_slopes[i], bs_intercepts[i] = np.polyfit(bs_x, bs_y, deg=1)\n",
    "    \n",
    "    return bs_slopes, bs_intercepts"
   ]
  },
  {
   "cell_type": "code",
   "execution_count": 18,
   "metadata": {},
   "outputs": [
    {
     "data": {
      "text/plain": [
       "(array([0.04876657]), array([1.99775244]))"
      ]
     },
     "execution_count": 18,
     "metadata": {},
     "output_type": "execute_result"
    }
   ],
   "source": [
    "pairs_linear_regression_bs(illiteracy, fertility)"
   ]
  },
  {
   "cell_type": "code",
   "execution_count": 19,
   "metadata": {},
   "outputs": [],
   "source": [
    "slopes_results, intercepts_results = pairs_linear_regression_bs(illiteracy, fertility, 1000)"
   ]
  },
  {
   "cell_type": "code",
   "execution_count": 20,
   "metadata": {},
   "outputs": [
    {
     "data": {
      "text/plain": [
       "array([0.04445306, 0.0552679 ])"
      ]
     },
     "execution_count": 20,
     "metadata": {},
     "output_type": "execute_result"
    }
   ],
   "source": [
    "# confidence interval for the slope \n",
    "np.percentile(slopes_results, [2.5, 97.5])"
   ]
  },
  {
   "cell_type": "code",
   "execution_count": 24,
   "metadata": {},
   "outputs": [
    {
     "data": {
      "image/png": "[encoded data removed]",
      "text/plain": [
       "<Figure size 432x288 with 1 Axes>"
      ]
     },
     "metadata": {},
     "output_type": "display_data"
    }
   ],
   "source": [
    "# Visualization of each \"bootstrap line\"\n",
    "x = np.array([0, 100])\n",
    "\n",
    "for i in range(100):\n",
    "    _ = plt.plot(x, slopes_results[i] * x + intercepts_results[i],\n",
    "                linewidth = 0.5, alpha = 0.2, color = \"red\")\n",
    "    \n",
    "_ = plt.plot(illiteracy, fertility, marker = \".\", linestyle = \"none\")"
   ]
  },
  {
   "cell_type": "markdown",
   "metadata": {},
   "source": [
    "### Optimization"
   ]
  },
  {
   "cell_type": "markdown",
   "metadata": {},
   "source": [
    "#### Newton-Raphson"
   ]
  },
  {
   "cell_type": "code",
   "execution_count": 25,
   "metadata": {},
   "outputs": [],
   "source": [
    "import numpy as np \n",
    "from numpy import linalg as la\n",
    "import scipy as sci \n",
    "import matplotlib.pyplot as plt "
   ]
  },
  {
   "cell_type": "code",
   "execution_count": 26,
   "metadata": {},
   "outputs": [],
   "source": [
    "x = np.arange(-5, 5, 0.1)\n",
    "def f(x):\n",
    "    return (x**3 - 2*x + 7)/(x**4 + 2)"
   ]
  },
  {
   "cell_type": "code",
   "execution_count": 27,
   "metadata": {},
   "outputs": [],
   "source": [
    "y = f(x)"
   ]
  },
  {
   "cell_type": "code",
   "execution_count": 29,
   "metadata": {},
   "outputs": [
    {
     "data": {
      "text/plain": [
       "<matplotlib.lines.Line2D at 0x1066d5eb8>"
      ]
     },
     "execution_count": 29,
     "metadata": {},
     "output_type": "execute_result"
    },
    {
     "data": {
      "image/png": "[encoded data removed]",
      "text/plain": [
       "<Figure size 432x288 with 1 Axes>"
      ]
     },
     "metadata": {},
     "output_type": "display_data"
    }
   ],
   "source": [
    "p1 = plt.plot(x, y)\n",
    "plt.xlim(-4, 4)\n",
    "plt.ylim(-0.5, 4)\n",
    "plt.xlabel(\"x\")\n",
    "\n",
    "# roots\n",
    "plt.axhline(0)"
   ]
  },
  {
   "cell_type": "code",
   "execution_count": 33,
   "metadata": {},
   "outputs": [],
   "source": [
    "def fprime(x):\n",
    "    return (x**4 + 2)**(-2)*((3*x**2-2)*(x**4+2) - 4*x**3*(x**3-2*x+7))"
   ]
  },
  {
   "cell_type": "code",
   "execution_count": 34,
   "metadata": {},
   "outputs": [],
   "source": [
    "def NR(x0, tol, f, fprime):\n",
    "    xval = x0\n",
    "    xstore = np.empty(1)\n",
    "    xstore[0] = xval\n",
    "    \n",
    "    notconverge = 1\n",
    "    its = 1\n",
    "    \n",
    "    while notconverge == 1:\n",
    "        nextvalue = xval - f(xval)/fprime(xval)\n",
    "        \n",
    "        error = f(nextvalue)\n",
    "        \n",
    "        if error > tol:\n",
    "            notconverge = 1\n",
    "            its = its + 1\n",
    "            xval = nextvalue\n",
    "            xstore = np.append(xstore, nextvalue)\n",
    "        else:\n",
    "            notconverge = 0\n",
    "            \n",
    "    return ({\"estimate\": xval, \"number of iterations\": its, \"sequence of estimates\": xstore})"
   ]
  },
  {
   "cell_type": "code",
   "execution_count": 35,
   "metadata": {},
   "outputs": [
    {
     "data": {
      "text/plain": [
       "{'estimate': -2.2546433717066834,\n",
       " 'number of iterations': 5,\n",
       " 'sequence of estimates': array([-1.        , -1.68571429, -2.01135095, -2.2005717 , -2.25464337])}"
      ]
     },
     "execution_count": 35,
     "metadata": {},
     "output_type": "execute_result"
    }
   ],
   "source": [
    "NR(-1, 0.0001, f, fprime)"
   ]
  },
  {
   "cell_type": "code",
   "execution_count": 36,
   "metadata": {},
   "outputs": [],
   "source": [
    "from scipy import optimize\n",
    "scipy_result = sci.optimize.newton(f, x0=-1, fprime = fprime)"
   ]
  },
  {
   "cell_type": "code",
   "execution_count": 37,
   "metadata": {},
   "outputs": [
    {
     "data": {
      "text/plain": [
       "-2.2582588834026085"
      ]
     },
     "execution_count": 37,
     "metadata": {},
     "output_type": "execute_result"
    }
   ],
   "source": [
    "scipy_result"
   ]
  },
  {
   "cell_type": "markdown",
   "metadata": {},
   "source": [
    "### EM for mixture of normal densities "
   ]
  },
  {
   "cell_type": "code",
   "execution_count": 38,
   "metadata": {},
   "outputs": [],
   "source": [
    "# The problem: to get the MLE estimate of the Theta vector of parameters \n",
    "# Avoiding analytical solution \n",
    "\n",
    "import numpy as np\n",
    "from numpy import random \n",
    "from scipy.optimize import minimize, show_options\n",
    "import matplotlib.pyplot as plt \n",
    "import math \n",
    "import matplotlib.mlab as mlab "
   ]
  },
  {
   "cell_type": "code",
   "execution_count": 41,
   "metadata": {},
   "outputs": [],
   "source": [
    "def gaussian(x, mean, dev=0.1):\n",
    "    # standard deviation, square root of variance\n",
    "    return 1/math.sqrt(2*math.pi)/dev*math.exp(-(x-mean)**2/2/dev**2)"
   ]
  },
  {
   "cell_type": "code",
   "execution_count": 48,
   "metadata": {},
   "outputs": [],
   "source": [
    "# Generate data \n",
    "N = 10000\n",
    "a = 0.3\n",
    "\n",
    "sample1 = random.normal(0, 0.1, size = int(N*a))\n",
    "sample2 = random.normal(3, 0.1, size = int(N*(1-a)))\n",
    "\n",
    "sample = np.concatenate([sample1, sample2])"
   ]
  },
  {
   "cell_type": "code",
   "execution_count": 49,
   "metadata": {
    "collapsed": true
   },
   "outputs": [
    {
     "data": {
      "text/plain": [
       "[<matplotlib.lines.Line2D at 0x107f6a828>]"
      ]
     },
     "execution_count": 49,
     "metadata": {},
     "output_type": "execute_result"
    },
    {
     "data": {
      "image/png": "[encoded data removed]",
      "text/plain": [
       "<Figure size 432x288 with 1 Axes>"
      ]
     },
     "metadata": {},
     "output_type": "display_data"
    }
   ],
   "source": [
    "hist, bin_edges = np.histogram(sample, bins=100)\n",
    "plt.plot(hist)"
   ]
  },
  {
   "cell_type": "code",
   "execution_count": 50,
   "metadata": {},
   "outputs": [
    {
     "name": "stdout",
     "output_type": "stream",
     "text": [
      "[-0.07886171  2.50030362  0.15562507]\n",
      "[-0.00316735  2.99981579  0.3       ]\n",
      "[-0.00316735  2.99981579  0.3       ]\n"
     ]
    },
    {
     "name": "stderr",
     "output_type": "stream",
     "text": [
      "/usr/local/lib/python3.6/site-packages/matplotlib/axes/_axes.py:6462: UserWarning: The 'normed' kwarg is deprecated, and has been replaced by the 'density' kwarg.\n",
      "  warnings.warn(\"The 'normed' kwarg is deprecated, and has been \"\n",
      "/usr/local/lib/python3.6/site-packages/ipykernel_launcher.py:47: MatplotlibDeprecationWarning: scipy.stats.norm.pdf\n",
      "/usr/local/lib/python3.6/site-packages/ipykernel_launcher.py:48: MatplotlibDeprecationWarning: scipy.stats.norm.pdf\n"
     ]
    },
    {
     "data": {
      "image/png": "[encoded data removed]",
      "text/plain": [
       "<Figure size 432x288 with 1 Axes>"
      ]
     },
     "metadata": {},
     "output_type": "display_data"
    }
   ],
   "source": [
    "max_iter = 100 \n",
    "\n",
    "# initial values \n",
    "params = np.array([-1, 1, 0.5])\n",
    "\n",
    "counter = 0 \n",
    "converged = False \n",
    "tol = 0.1\n",
    "\n",
    "plabel1 = np.zeros(sample.shape)\n",
    "plabel2 = np.zeros(sample.shape)\n",
    "\n",
    "while not converged and counter < max_iter:\n",
    "    counter += 1\n",
    "    \n",
    "    mu1, mu2, pi_1 = params\n",
    "    \n",
    "    # Expectation step \n",
    "    for i in range(len(sample)):\n",
    "        cdf1 = gaussian(sample[i], mu1)\n",
    "        cdf2 = gaussian(sample[i], mu2)\n",
    "        \n",
    "        pi_2 = 1 - pi_1\n",
    "        \n",
    "        plabel1[i] = cdf1 * pi_1 / (cdf1 * pi_1 + cdf2 * pi_2)\n",
    "        plabel2[i] = cdf2 * pi_2 / (cdf1 * pi_1 + cdf2 * pi_2)\n",
    "        \n",
    "    # Maximization \n",
    "    mu1 = sum(sample * plabel1)/sum(plabel1)\n",
    "    mu2 = sum(sample * plabel2)/sum(plabel2)\n",
    "    pi_1 = sum(plabel1)/len(sample)\n",
    "    \n",
    "    new_parameters = np.array([mu1, mu2, pi_1])\n",
    "    print(new_parameters)\n",
    "    \n",
    "    # Checking the convergence \n",
    "    if np.max(abs(np.asarray(params) - np.asarray(new_parameters))) < tol:\n",
    "        converged = True\n",
    "    \n",
    "    params = new_parameters\n",
    "    \n",
    "\n",
    "plt.hist(sample, bins = 100, normed = True)\n",
    "\n",
    "x = np.linspace(sample.min(), sample.max(), 100)\n",
    "\n",
    "plt.plot(x, mlab.normpdf(x, mu1, 0.1))\n",
    "plt.plot(x, mlab.normpdf(x, mu2, 0.1))\n",
    "\n",
    "plt.show()"
   ]
  },
  {
   "cell_type": "code",
   "execution_count": null,
   "metadata": {},
   "outputs": [],
   "source": []
  }
 ],
 "metadata": {
  "kernelspec": {
   "display_name": "Python 3",
   "language": "python",
   "name": "python3"
  },
  "language_info": {
   "codemirror_mode": {
    "name": "ipython",
    "version": 3
   },
   "file_extension": ".py",
   "mimetype": "text/x-python",
   "name": "python",
   "nbconvert_exporter": "python",
   "pygments_lexer": "ipython3",
   "version": "3.6.5"
  }
 },
 "nbformat": 4,
 "nbformat_minor": 2
}
